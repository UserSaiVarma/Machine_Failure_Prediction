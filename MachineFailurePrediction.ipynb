{
  "nbformat": 4,
  "nbformat_minor": 0,
  "metadata": {
    "colab": {
      "name": "MachineFailurePrediction.ipynb",
      "provenance": [],
      "collapsed_sections": []
    },
    "kernelspec": {
      "name": "python3",
      "display_name": "Python 3"
    },
    "language_info": {
      "name": "python"
    },
    "accelerator": "GPU"
  },
  "cells": [
    {
      "cell_type": "markdown",
      "metadata": {
        "id": "II_eetro9-Hd"
      },
      "source": [
        "<font size=3 color='orange'>Machine Failure Prediction"
      ]
    },
    {
      "cell_type": "markdown",
      "metadata": {
        "id": "IY4rdI799z3M"
      },
      "source": [
        "Imporitng Libraries"
      ]
    },
    {
      "cell_type": "code",
      "metadata": {
        "id": "OFpno8sy8KJF"
      },
      "source": [
        "import pandas as pd\n",
        "import numpy as np\n",
        "import warnings\n",
        "warnings.filterwarnings('ignore')\n",
        "import matplotlib.pyplot as plt\n",
        "plt.rcParams['patch.force_edgecolor']=True\n",
        "import seaborn as sns\n",
        "sns.set_style('whitegrid')\n",
        "from imblearn.over_sampling import SMOTE\n",
        "from sklearn.feature_extraction.text import CountVectorizer\n",
        "from sklearn.preprocessing import Normalizer\n",
        "from scipy.sparse import hstack\n",
        "import tensorflow as tf\n",
        "from tensorflow.keras.layers import Dense,Input,Activation,Dropout\n",
        "from tensorflow.keras import initializers, regularizers\n",
        "from tensorflow.keras.models import Model\n",
        "from tensorflow.keras.callbacks import ModelCheckpoint\n",
        "from itertools import combinations\n",
        "import os\n",
        "import datetime\n",
        "import collections\n",
        "from sklearn.metrics import f1_score, confusion_matrix, roc_auc_score\n",
        "from tensorflow.keras.callbacks import LearningRateScheduler\n",
        "from tensorflow.keras.callbacks import ReduceLROnPlateau\n",
        "from tensorflow.keras.callbacks import TerminateOnNaN\n",
        "from tensorflow.keras.callbacks import EarlyStopping\n",
        "%load_ext tensorboard"
      ],
      "execution_count": 1,
      "outputs": []
    },
    {
      "cell_type": "code",
      "metadata": {
        "colab": {
          "base_uri": "https://localhost:8080/"
        },
        "id": "UiuT-v3W_Ltr",
        "outputId": "4fc47dc9-7f61-4553-e16d-db6035b9b4da"
      },
      "source": [
        "!curl --header 'Host: doc-10-a0-docs.googleusercontent.com' --user-agent 'Mozilla/5.0 (Windows NT 10.0; Win64; x64; rv:94.0) Gecko/20100101 Firefox/94.0' --header 'Accept: text/html,application/xhtml+xml,application/xml;q=0.9,image/avif,image/webp,*/*;q=0.8' --header 'Accept-Language: en-US,en;q=0.5' --header 'DNT: 1' --cookie 'AUTH_9n4dq44hooaaslh20mjnd8bj0rv6432e=18252328693629936117|1638319950000|ak3i1ghbdgkev1j55o588mv2j45t3qe5' --header 'Upgrade-Insecure-Requests: 1' --header 'Sec-Fetch-Dest: iframe' --header 'Sec-Fetch-Mode: navigate' --header 'Sec-Fetch-Site: cross-site' 'https://doc-10-a0-docs.googleusercontent.com/docs/securesc/b6f3i9sti2iqtqc852seut3vphbmj2k0/6u5ev5vcknabfgg3poc2kkoe7ldl186a/1638320025000/18252328693629936117/18252328693629936117/1fahHuxncmLsOkrlI7bpFCReIQBZScnmV?e=download&authuser=0' --output 'Cleaned_data.csv'"
      ],
      "execution_count": 2,
      "outputs": [
        {
          "output_type": "stream",
          "name": "stdout",
          "text": [
            "  % Total    % Received % Xferd  Average Speed   Time    Time     Time  Current\n",
            "                                 Dload  Upload   Total   Spent    Left  Speed\n",
            "100 7693k  100 7693k    0     0  16.9M      0 --:--:-- --:--:-- --:--:-- 16.8M\n"
          ]
        }
      ]
    },
    {
      "cell_type": "code",
      "metadata": {
        "colab": {
          "base_uri": "https://localhost:8080/",
          "height": 206
        },
        "id": "-n7i4Xxg9RV2",
        "outputId": "67344b50-62ff-403b-ac3a-7f4ea55eb5b7"
      },
      "source": [
        "data = pd.read_csv('Cleaned_data.csv')\n",
        "data.head()"
      ],
      "execution_count": 3,
      "outputs": [
        {
          "output_type": "execute_result",
          "data": {
            "text/html": [
              "<div>\n",
              "<style scoped>\n",
              "    .dataframe tbody tr th:only-of-type {\n",
              "        vertical-align: middle;\n",
              "    }\n",
              "\n",
              "    .dataframe tbody tr th {\n",
              "        vertical-align: top;\n",
              "    }\n",
              "\n",
              "    .dataframe thead th {\n",
              "        text-align: right;\n",
              "    }\n",
              "</style>\n",
              "<table border=\"1\" class=\"dataframe\">\n",
              "  <thead>\n",
              "    <tr style=\"text-align: right;\">\n",
              "      <th></th>\n",
              "      <th>Leakage</th>\n",
              "      <th>Parameter1_Dir</th>\n",
              "      <th>Parameter1_Speed</th>\n",
              "      <th>Parameter2_9am</th>\n",
              "      <th>Parameter2_3pm</th>\n",
              "      <th>Failure_today</th>\n",
              "      <th>RISK_MM</th>\n",
              "      <th>Fail_tomorrow</th>\n",
              "      <th>parameter4</th>\n",
              "      <th>parameter5</th>\n",
              "      <th>parameter7</th>\n",
              "      <th>date</th>\n",
              "    </tr>\n",
              "  </thead>\n",
              "  <tbody>\n",
              "    <tr>\n",
              "      <th>0</th>\n",
              "      <td>0.6</td>\n",
              "      <td>W</td>\n",
              "      <td>44.0</td>\n",
              "      <td>W</td>\n",
              "      <td>WNW</td>\n",
              "      <td>0</td>\n",
              "      <td>0.0</td>\n",
              "      <td>0</td>\n",
              "      <td>93.0</td>\n",
              "      <td>2014.8</td>\n",
              "      <td>38.7</td>\n",
              "      <td>2008</td>\n",
              "    </tr>\n",
              "    <tr>\n",
              "      <th>1</th>\n",
              "      <td>0.0</td>\n",
              "      <td>WNW</td>\n",
              "      <td>44.0</td>\n",
              "      <td>NNW</td>\n",
              "      <td>WSW</td>\n",
              "      <td>0</td>\n",
              "      <td>0.0</td>\n",
              "      <td>0</td>\n",
              "      <td>69.0</td>\n",
              "      <td>2018.4</td>\n",
              "      <td>41.5</td>\n",
              "      <td>2008</td>\n",
              "    </tr>\n",
              "    <tr>\n",
              "      <th>2</th>\n",
              "      <td>0.0</td>\n",
              "      <td>WSW</td>\n",
              "      <td>46.0</td>\n",
              "      <td>W</td>\n",
              "      <td>WSW</td>\n",
              "      <td>0</td>\n",
              "      <td>0.0</td>\n",
              "      <td>0</td>\n",
              "      <td>68.0</td>\n",
              "      <td>2016.3</td>\n",
              "      <td>44.2</td>\n",
              "      <td>2008</td>\n",
              "    </tr>\n",
              "    <tr>\n",
              "      <th>3</th>\n",
              "      <td>0.0</td>\n",
              "      <td>NE</td>\n",
              "      <td>24.0</td>\n",
              "      <td>SE</td>\n",
              "      <td>E</td>\n",
              "      <td>0</td>\n",
              "      <td>1.0</td>\n",
              "      <td>0</td>\n",
              "      <td>61.0</td>\n",
              "      <td>2030.4</td>\n",
              "      <td>44.6</td>\n",
              "      <td>2008</td>\n",
              "    </tr>\n",
              "    <tr>\n",
              "      <th>4</th>\n",
              "      <td>1.0</td>\n",
              "      <td>W</td>\n",
              "      <td>41.0</td>\n",
              "      <td>ENE</td>\n",
              "      <td>NW</td>\n",
              "      <td>0</td>\n",
              "      <td>0.2</td>\n",
              "      <td>0</td>\n",
              "      <td>115.0</td>\n",
              "      <td>2016.8</td>\n",
              "      <td>47.5</td>\n",
              "      <td>2008</td>\n",
              "    </tr>\n",
              "  </tbody>\n",
              "</table>\n",
              "</div>"
            ],
            "text/plain": [
              "   Leakage Parameter1_Dir  Parameter1_Speed  ... parameter5 parameter7  date\n",
              "0      0.6              W              44.0  ...     2014.8       38.7  2008\n",
              "1      0.0            WNW              44.0  ...     2018.4       41.5  2008\n",
              "2      0.0            WSW              46.0  ...     2016.3       44.2  2008\n",
              "3      0.0             NE              24.0  ...     2030.4       44.6  2008\n",
              "4      1.0              W              41.0  ...     2016.8       47.5  2008\n",
              "\n",
              "[5 rows x 12 columns]"
            ]
          },
          "metadata": {},
          "execution_count": 3
        }
      ]
    },
    {
      "cell_type": "code",
      "metadata": {
        "colab": {
          "base_uri": "https://localhost:8080/"
        },
        "id": "sC8T3Qre-Lfh",
        "outputId": "919bc3c6-a506-4543-ca26-e22c6ba56f1f"
      },
      "source": [
        "print(\"total data points in the data are:\", data.shape[0])\n",
        "print(\"total columns in the data are:\", data.shape[1])"
      ],
      "execution_count": 4,
      "outputs": [
        {
          "output_type": "stream",
          "name": "stdout",
          "text": [
            "total data points in the data are: 142193\n",
            "total columns in the data are: 12\n"
          ]
        }
      ]
    },
    {
      "cell_type": "code",
      "metadata": {
        "colab": {
          "base_uri": "https://localhost:8080/"
        },
        "id": "5qGmSt2l-TDu",
        "outputId": "91cebad8-ae12-420e-b7d7-4414e3d3ba47"
      },
      "source": [
        "data.info()"
      ],
      "execution_count": 5,
      "outputs": [
        {
          "output_type": "stream",
          "name": "stdout",
          "text": [
            "<class 'pandas.core.frame.DataFrame'>\n",
            "RangeIndex: 142193 entries, 0 to 142192\n",
            "Data columns (total 12 columns):\n",
            " #   Column            Non-Null Count   Dtype  \n",
            "---  ------            --------------   -----  \n",
            " 0   Leakage           142193 non-null  float64\n",
            " 1   Parameter1_Dir    142193 non-null  object \n",
            " 2   Parameter1_Speed  142193 non-null  float64\n",
            " 3   Parameter2_9am    142193 non-null  object \n",
            " 4   Parameter2_3pm    142193 non-null  object \n",
            " 5   Failure_today     142193 non-null  int64  \n",
            " 6   RISK_MM           142193 non-null  float64\n",
            " 7   Fail_tomorrow     142193 non-null  int64  \n",
            " 8   parameter4        142193 non-null  float64\n",
            " 9   parameter5        142193 non-null  float64\n",
            " 10  parameter7        142193 non-null  float64\n",
            " 11  date              142193 non-null  int64  \n",
            "dtypes: float64(6), int64(3), object(3)\n",
            "memory usage: 13.0+ MB\n"
          ]
        }
      ]
    },
    {
      "cell_type": "markdown",
      "metadata": {
        "id": "FOAWeZG_Al58"
      },
      "source": [
        "<font size=2 color='blue'>Splitting into Train adn Test"
      ]
    },
    {
      "cell_type": "markdown",
      "metadata": {
        "id": "EMh2Q0RvAsK-"
      },
      "source": [
        "Since we have time axis we'll split the data using temporal splitting instead of random splitting"
      ]
    },
    {
      "cell_type": "code",
      "metadata": {
        "id": "gtuwFqmSAq0u"
      },
      "source": [
        "#sorting the data\n",
        "data.sort_values(by=['date'], inplace=True)"
      ],
      "execution_count": 6,
      "outputs": []
    },
    {
      "cell_type": "code",
      "metadata": {
        "id": "w4ZW2s-4BVnf"
      },
      "source": [
        "x = data.drop(['Fail_tomorrow','date'], axis=1)\n",
        "y = data['Fail_tomorrow'].values"
      ],
      "execution_count": 7,
      "outputs": []
    },
    {
      "cell_type": "code",
      "metadata": {
        "colab": {
          "base_uri": "https://localhost:8080/"
        },
        "id": "ql9oH9GVBxkw",
        "outputId": "ac9d57c0-b635-40a4-c96f-35c3bec26ffd"
      },
      "source": [
        "#spltting 70% into train and 30% into test\n",
        "split_index = int(len(x)*0.7)\n",
        "X_train = x[0:split_index]\n",
        "X_test = x[split_index:]\n",
        "y_train = y[0:split_index]\n",
        "y_test = y[split_index:]\n",
        "\n",
        "print(\"X_train: \", X_train.shape)\n",
        "print(\"y_train: \", y_train.shape)\n",
        "print(\"X_test: \", X_test.shape)\n",
        "print(\"y_test: \", y_test.shape)"
      ],
      "execution_count": 8,
      "outputs": [
        {
          "output_type": "stream",
          "name": "stdout",
          "text": [
            "X_train:  (99535, 10)\n",
            "y_train:  (99535,)\n",
            "X_test:  (42658, 10)\n",
            "y_test:  (42658,)\n"
          ]
        }
      ]
    },
    {
      "cell_type": "markdown",
      "metadata": {
        "id": "nh7k4--I_jGe"
      },
      "source": [
        "<font size=2 color='blue'>Converting Catgeorical to Numerical Features"
      ]
    },
    {
      "cell_type": "code",
      "metadata": {
        "id": "L_Q-fmlK_T5X"
      },
      "source": [
        "vectorizer = CountVectorizer()\n",
        "\n",
        "vectorizer.fit(X_train['Parameter1_Dir'].values)\n",
        "X_train_param1 = vectorizer.transform(X_train['Parameter1_Dir'].values)\n",
        "X_test_param1 = vectorizer.transform(X_test['Parameter1_Dir'].values)\n",
        "\n",
        "vectorizer.fit(X_train['Parameter2_9am'].values)\n",
        "X_train_param29am = vectorizer.transform(X_train['Parameter2_9am'].values)\n",
        "X_test_param29am = vectorizer.transform(X_test['Parameter2_9am'].values)\n",
        "\n",
        "vectorizer.fit(X_train['Parameter2_3pm'].values)\n",
        "X_train_param23pm = vectorizer.transform(X_train['Parameter2_3pm'].values)\n",
        "X_test_param23pm = vectorizer.transform(X_test['Parameter2_3pm'].values)"
      ],
      "execution_count": 9,
      "outputs": []
    },
    {
      "cell_type": "markdown",
      "metadata": {
        "id": "jy-wDKxHFqb3"
      },
      "source": [
        "Normalizing Numerical Features"
      ]
    },
    {
      "cell_type": "code",
      "metadata": {
        "id": "IeJYUD3tFuOU"
      },
      "source": [
        "normalizer = Normalizer()\n",
        "\n",
        "X_train_Leakage = normalizer.fit_transform(X_train['Leakage'].values.reshape(1,-1)).T\n",
        "X_test_Leakage = normalizer.fit_transform(X_test['Leakage'].values.reshape(1,-1)).T\n",
        "\n",
        "X_train_param1_speed = normalizer.fit_transform(X_train['Parameter1_Speed'].values.reshape(1,-1)).T\n",
        "X_test_param1_speed = normalizer.fit_transform(X_test['Parameter1_Speed'].values.reshape(1,-1)).T\n",
        "\n",
        "X_train_fail = normalizer.fit_transform(X_train['Failure_today'].values.reshape(1,-1)).T\n",
        "X_test_fail = normalizer.fit_transform(X_test['Failure_today'].values.reshape(1,-1)).T\n",
        "\n",
        "X_train_risk = normalizer.fit_transform(X_train['RISK_MM'].values.reshape(1,-1)).T\n",
        "X_test_risk = normalizer.fit_transform(X_test['RISK_MM'].values.reshape(1,-1)).T\n",
        "\n",
        "X_train_param4 = normalizer.fit_transform(X_train['parameter4'].values.reshape(1,-1)).T\n",
        "X_test_param4 = normalizer.fit_transform(X_test['parameter4'].values.reshape(1,-1)).T\n",
        "\n",
        "X_train_param5 = normalizer.fit_transform(X_train['parameter5'].values.reshape(1,-1)).T\n",
        "X_test_param5 = normalizer.fit_transform(X_test['parameter5'].values.reshape(1,-1)).T\n",
        "\n",
        "X_train_param7 = normalizer.fit_transform(X_train['parameter7'].values.reshape(1,-1)).T\n",
        "X_test_param7 = normalizer.fit_transform(X_test['parameter7'].values.reshape(1,-1)).T"
      ],
      "execution_count": 10,
      "outputs": []
    },
    {
      "cell_type": "markdown",
      "metadata": {
        "id": "9ERADH52D46G"
      },
      "source": [
        "Concatinating all features"
      ]
    },
    {
      "cell_type": "code",
      "metadata": {
        "id": "xlKKcErAD3mt"
      },
      "source": [
        "X_tr = hstack((X_train_param1, X_train_param29am, X_train_param23pm, X_train_Leakage, X_train_param1_speed, X_train_fail, X_train_risk, X_train_param4, X_train_param5, X_train_param7)).toarray()\n",
        "X_te = hstack((X_test_param1, X_test_param29am, X_test_param23pm, X_test_Leakage, X_test_param1_speed, X_test_fail, X_test_risk, X_test_param4, X_test_param5, X_test_param7)).toarray()"
      ],
      "execution_count": 11,
      "outputs": []
    },
    {
      "cell_type": "markdown",
      "metadata": {
        "id": "Ptvu8KHaIPF2"
      },
      "source": [
        "<font size=2 color='blue'>Building the model"
      ]
    },
    {
      "cell_type": "markdown",
      "metadata": {
        "id": "BIStjqfkQZHf"
      },
      "source": [
        "1. Logistic Regression"
      ]
    },
    {
      "cell_type": "code",
      "metadata": {
        "colab": {
          "base_uri": "https://localhost:8080/",
          "height": 338
        },
        "id": "x_PwNyX8Qb2w",
        "outputId": "590ac21c-b28c-4f9b-cec9-776d67847242"
      },
      "source": [
        "from sklearn.linear_model import SGDClassifier\n",
        "\n",
        "sgd = SGDClassifier(loss='log', class_weight='balanced', random_state=42)\n",
        "sgd.fit(X_tr, y_train)\n",
        "\n",
        "y_pred = sgd.predict(X_te)\n",
        "f1 = f1_score(y_test, y_pred)\n",
        "print(\"f1:\", f1)\n",
        "\n",
        "auc = roc_auc_score(y_test, sgd.predict_proba(X_te)[:,0])\n",
        "print('AUC:', auc)\n",
        "\n",
        "print(sgd.score(X_te, y_test))\n",
        "sns.heatmap(confusion_matrix(y_test, y_pred), annot=True,  annot_kws={\"fontsize\":8})"
      ],
      "execution_count": 12,
      "outputs": [
        {
          "output_type": "stream",
          "name": "stdout",
          "text": [
            "f1: 0.40587580439327703\n",
            "AUC: 0.35288960111939494\n",
            "0.48705987153640584\n"
          ]
        },
        {
          "output_type": "execute_result",
          "data": {
            "text/plain": [
              "<matplotlib.axes._subplots.AxesSubplot at 0x7fa27ded1dd0>"
            ]
          },
          "metadata": {},
          "execution_count": 12
        },
        {
          "output_type": "display_data",
          "data": {
            "image/png": "[encoded data removed]",
            "text/plain": [
              "<Figure size 432x288 with 2 Axes>"
            ]
          },
          "metadata": {
            "needs_background": "light"
          }
        }
      ]
    },
    {
      "cell_type": "markdown",
      "metadata": {
        "id": "onI4iSL2MpwI"
      },
      "source": [
        "Custom Callbacks"
      ]
    },
    {
      "cell_type": "code",
      "metadata": {
        "id": "lEN7pNevMpVq"
      },
      "source": [
        "#Decaying Learning rate using epoch\n",
        "def changeLearningRate(epoch, lr):\n",
        "    if (epoch+1)%3==0:\n",
        "        return lr*0.95\n",
        "    else:\n",
        "        return lr\n",
        "lrschedule = LearningRateScheduler(changeLearningRate, verbose=1)\n",
        "\n",
        "reduce_lr = ReduceLROnPlateau(monitor='val_accuracy', factor=0.9, patience=1, min_lr=0.001)\n",
        "\n",
        "loss_terminate = TerminateOnNaN()\n",
        "\n",
        "class TerminateNaN(tf.keras.callbacks.Callback):\n",
        "    def on_epoch_end(self, epoch, logs={}):\n",
        "        mod_weights = model.get_weights()\n",
        "        if mod_weights is not None:\n",
        "            if np.any([np.any(np.isnan(x)) for x in mod_weights]):\n",
        "                print(\"Invalid weight and terminated at epoch {}\".format(epoch))\n",
        "                self.model.stop_training = True\n",
        "weight_terminate = TerminateNaN()\n",
        "\n",
        "earlystop = EarlyStopping(monitor='val_accuracy', patience=2)"
      ],
      "execution_count": 13,
      "outputs": []
    },
    {
      "cell_type": "code",
      "metadata": {
        "colab": {
          "base_uri": "https://localhost:8080/",
          "height": 1000
        },
        "id": "vu6qJb4tIS-j",
        "outputId": "fea2719e-2cce-4c37-c8de-6e1f54a63b92"
      },
      "source": [
        "#Input \n",
        "input_layer = Input(shape=(43,))\n",
        "\n",
        "#Dense hidden layer1\n",
        "layer1 = Dense(256,activation='relu',kernel_initializer=initializers.HeNormal(seed=30))(input_layer)\n",
        "dropout = Dropout(0.2)(layer1)\n",
        "\n",
        "#Dense hidden layer2\n",
        "layer2 = Dense(128,activation='relu',kernel_initializer=initializers.HeNormal(seed=30))(dropout)\n",
        "dropout = Dropout(0.2)(layer2)\n",
        "\n",
        "#Dense hidden layer3\n",
        "layer3 = Dense(64,activation='relu',kernel_initializer=initializers.HeNormal(seed=30))(dropout)\n",
        "dropout = Dropout(0.2)(layer3)\n",
        "\n",
        "#Dense hidden layer4\n",
        "layer4 = Dense(32,activation='relu',kernel_initializer=initializers.HeNormal(seed=30))(dropout)\n",
        "dropout = Dropout(0.2)(layer4)\n",
        "\n",
        "#Dense hidden layer5\n",
        "layer5 = Dense(5,activation='relu',kernel_initializer=initializers.HeNormal(seed=30))(dropout)\n",
        "\n",
        "#output layer\n",
        "output = Dense(1,activation='sigmoid',kernel_initializer=initializers.HeNormal(seed=30))(layer5)\n",
        "\n",
        "#Creating a model\n",
        "model = Model(inputs=input_layer,outputs=output)     \n",
        "\n",
        "callbacks = [lrschedule, reduce_lr, weight_terminate, loss_terminate, earlystop]\n",
        "\n",
        "print(model.summary())\n",
        "tf.keras.utils.plot_model(model, show_shapes=True)"
      ],
      "execution_count": 27,
      "outputs": [
        {
          "output_type": "stream",
          "name": "stdout",
          "text": [
            "Model: \"model_4\"\n",
            "_________________________________________________________________\n",
            " Layer (type)                Output Shape              Param #   \n",
            "=================================================================\n",
            " input_5 (InputLayer)        [(None, 43)]              0         \n",
            "                                                                 \n",
            " dense_24 (Dense)            (None, 256)               11264     \n",
            "                                                                 \n",
            " dropout_16 (Dropout)        (None, 256)               0         \n",
            "                                                                 \n",
            " dense_25 (Dense)            (None, 128)               32896     \n",
            "                                                                 \n",
            " dropout_17 (Dropout)        (None, 128)               0         \n",
            "                                                                 \n",
            " dense_26 (Dense)            (None, 64)                8256      \n",
            "                                                                 \n",
            " dropout_18 (Dropout)        (None, 64)                0         \n",
            "                                                                 \n",
            " dense_27 (Dense)            (None, 32)                2080      \n",
            "                                                                 \n",
            " dropout_19 (Dropout)        (None, 32)                0         \n",
            "                                                                 \n",
            " dense_28 (Dense)            (None, 5)                 165       \n",
            "                                                                 \n",
            " dense_29 (Dense)            (None, 1)                 6         \n",
            "                                                                 \n",
            "=================================================================\n",
            "Total params: 54,667\n",
            "Trainable params: 54,667\n",
            "Non-trainable params: 0\n",
            "_________________________________________________________________\n",
            "None\n"
          ]
        },
        {
          "output_type": "execute_result",
          "data": {
            "image/png": "[encoded data removed]",
            "text/plain": [
              "<IPython.core.display.Image object>"
            ]
          },
          "metadata": {},
          "execution_count": 27
        }
      ]
    },
    {
      "cell_type": "code",
      "metadata": {
        "colab": {
          "base_uri": "https://localhost:8080/"
        },
        "id": "WRTlPTk7UEcJ",
        "outputId": "c5b56652-bab9-4d3a-ac27-c7b062c23c72"
      },
      "source": [
        "#optimizer\n",
        "optimizer = tf.keras.optimizers.Adam()\n",
        "\n",
        "model.compile(optimizer=optimizer, loss='binary_crossentropy', metrics=['accuracy'])\n",
        "\n",
        "model.fit(X_tr,y_train,epochs=20, validation_data=(X_te,y_test), batch_size=16, callbacks=callbacks)"
      ],
      "execution_count": 28,
      "outputs": [
        {
          "output_type": "stream",
          "name": "stdout",
          "text": [
            "\n",
            "Epoch 00001: LearningRateScheduler setting learning rate to 0.0010000000474974513.\n",
            "Epoch 1/20\n",
            "   1/6221 [..............................] - ETA: 1:27:48 - loss: 0.6998 - accuracy: 0.6250WARNING:tensorflow:Callback method `on_train_batch_end` is slow compared to the batch time (batch time: 0.0035s vs `on_train_batch_end` time: 0.0037s). Check your callbacks.\n",
            "6221/6221 [==============================] - 34s 5ms/step - loss: 0.5179 - accuracy: 0.7763 - val_loss: 0.4289 - val_accuracy: 0.8202 - lr: 0.0010\n",
            "\n",
            "Epoch 00002: LearningRateScheduler setting learning rate to 0.0010000000474974513.\n",
            "Epoch 2/20\n",
            "6221/6221 [==============================] - 33s 5ms/step - loss: 0.4131 - accuracy: 0.8269 - val_loss: 0.3384 - val_accuracy: 0.8492 - lr: 0.0010\n",
            "\n",
            "Epoch 00003: LearningRateScheduler setting learning rate to 0.0009500000451225787.\n",
            "Epoch 3/20\n",
            "6221/6221 [==============================] - 37s 6ms/step - loss: 0.3117 - accuracy: 0.8776 - val_loss: 0.2707 - val_accuracy: 0.8869 - lr: 9.5000e-04\n",
            "\n",
            "Epoch 00004: LearningRateScheduler setting learning rate to 0.0009500000160187483.\n",
            "Epoch 4/20\n",
            "6221/6221 [==============================] - 33s 5ms/step - loss: 0.2033 - accuracy: 0.9238 - val_loss: 0.2226 - val_accuracy: 0.9147 - lr: 9.5000e-04\n",
            "\n",
            "Epoch 00005: LearningRateScheduler setting learning rate to 0.0009500000160187483.\n",
            "Epoch 5/20\n",
            "6221/6221 [==============================] - 33s 5ms/step - loss: 0.1343 - accuracy: 0.9513 - val_loss: 0.2416 - val_accuracy: 0.9029 - lr: 9.5000e-04\n",
            "\n",
            "Epoch 00006: LearningRateScheduler setting learning rate to 0.0009025000152178108.\n",
            "Epoch 6/20\n",
            "6221/6221 [==============================] - 37s 6ms/step - loss: 0.1068 - accuracy: 0.9615 - val_loss: 0.1596 - val_accuracy: 0.9379 - lr: 9.0250e-04\n",
            "\n",
            "Epoch 00007: LearningRateScheduler setting learning rate to 0.0009025000035762787.\n",
            "Epoch 7/20\n",
            "6221/6221 [==============================] - 38s 6ms/step - loss: 0.0934 - accuracy: 0.9667 - val_loss: 0.3057 - val_accuracy: 0.9082 - lr: 9.0250e-04\n",
            "\n",
            "Epoch 00008: LearningRateScheduler setting learning rate to 0.0009025000035762787.\n",
            "Epoch 8/20\n",
            "6221/6221 [==============================] - 33s 5ms/step - loss: 0.0858 - accuracy: 0.9690 - val_loss: 0.1951 - val_accuracy: 0.9361 - lr: 9.0250e-04\n"
          ]
        },
        {
          "output_type": "execute_result",
          "data": {
            "text/plain": [
              "<keras.callbacks.History at 0x7fa1fb43ef90>"
            ]
          },
          "metadata": {},
          "execution_count": 28
        }
      ]
    }
  ]
}